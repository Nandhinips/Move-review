{
 "cells": [
  {
   "cell_type": "code",
   "execution_count": 1,
   "metadata": {
    "id": "QzsFe1AuTxqY"
   },
   "outputs": [],
   "source": [
    "from gensim.models import Word2Vec as wtv"
   ]
  },
  {
   "cell_type": "code",
   "execution_count": 3,
   "metadata": {
    "id": "sIddmZTnUBjl"
   },
   "outputs": [],
   "source": [
    "from nltk import word_tokenize"
   ]
  },
  {
   "cell_type": "code",
   "execution_count": 4,
   "metadata": {
    "colab": {
     "base_uri": "https://localhost:8080/"
    },
    "id": "a2Ae8VFJUNHQ",
    "outputId": "d1452ae6-f1d2-425e-df14-b5c6812c60b8"
   },
   "outputs": [
    {
     "name": "stderr",
     "output_type": "stream",
     "text": [
      "[nltk_data] Error loading punkt: <urlopen error [WinError 10060] A\n",
      "[nltk_data]     connection attempt failed because the connected party\n",
      "[nltk_data]     did not properly respond after a period of time or\n",
      "[nltk_data]     established connection failed because connected host\n",
      "[nltk_data]     has failed to respond>\n"
     ]
    },
    {
     "data": {
      "text/plain": [
       "False"
      ]
     },
     "execution_count": 4,
     "metadata": {},
     "output_type": "execute_result"
    }
   ],
   "source": [
    "import nltk\n",
    "nltk.download('punkt')"
   ]
  },
  {
   "cell_type": "code",
   "execution_count": 5,
   "metadata": {
    "id": "oONHjv0LWemW"
   },
   "outputs": [],
   "source": [
    "import pandas as pd"
   ]
  },
  {
   "cell_type": "code",
   "execution_count": 6,
   "metadata": {
    "id": "VGuY1LmaXcZ9"
   },
   "outputs": [],
   "source": [
    "data=pd.read_csv('labeledTrainData.tsv', sep='\\t')"
   ]
  },
  {
   "cell_type": "code",
   "execution_count": 7,
   "metadata": {
    "colab": {
     "base_uri": "https://localhost:8080/",
     "height": 206
    },
    "id": "kXtMhH8yXfEr",
    "outputId": "5f8b5a99-64d8-4f7c-83b6-9a36d5217d27"
   },
   "outputs": [
    {
     "data": {
      "text/html": [
       "<div>\n",
       "<style scoped>\n",
       "    .dataframe tbody tr th:only-of-type {\n",
       "        vertical-align: middle;\n",
       "    }\n",
       "\n",
       "    .dataframe tbody tr th {\n",
       "        vertical-align: top;\n",
       "    }\n",
       "\n",
       "    .dataframe thead th {\n",
       "        text-align: right;\n",
       "    }\n",
       "</style>\n",
       "<table border=\"1\" class=\"dataframe\">\n",
       "  <thead>\n",
       "    <tr style=\"text-align: right;\">\n",
       "      <th></th>\n",
       "      <th>id</th>\n",
       "      <th>sentiment</th>\n",
       "      <th>review</th>\n",
       "    </tr>\n",
       "  </thead>\n",
       "  <tbody>\n",
       "    <tr>\n",
       "      <th>0</th>\n",
       "      <td>5814_8</td>\n",
       "      <td>1</td>\n",
       "      <td>With all this stuff going down at the moment w...</td>\n",
       "    </tr>\n",
       "    <tr>\n",
       "      <th>1</th>\n",
       "      <td>2381_9</td>\n",
       "      <td>1</td>\n",
       "      <td>\\The Classic War of the Worlds\\\" by Timothy Hi...</td>\n",
       "    </tr>\n",
       "    <tr>\n",
       "      <th>2</th>\n",
       "      <td>7759_3</td>\n",
       "      <td>0</td>\n",
       "      <td>The film starts with a manager (Nicholas Bell)...</td>\n",
       "    </tr>\n",
       "    <tr>\n",
       "      <th>3</th>\n",
       "      <td>3630_4</td>\n",
       "      <td>0</td>\n",
       "      <td>It must be assumed that those who praised this...</td>\n",
       "    </tr>\n",
       "    <tr>\n",
       "      <th>4</th>\n",
       "      <td>9495_8</td>\n",
       "      <td>1</td>\n",
       "      <td>Superbly trashy and wondrously unpretentious 8...</td>\n",
       "    </tr>\n",
       "  </tbody>\n",
       "</table>\n",
       "</div>"
      ],
      "text/plain": [
       "       id  sentiment                                             review\n",
       "0  5814_8          1  With all this stuff going down at the moment w...\n",
       "1  2381_9          1  \\The Classic War of the Worlds\\\" by Timothy Hi...\n",
       "2  7759_3          0  The film starts with a manager (Nicholas Bell)...\n",
       "3  3630_4          0  It must be assumed that those who praised this...\n",
       "4  9495_8          1  Superbly trashy and wondrously unpretentious 8..."
      ]
     },
     "execution_count": 7,
     "metadata": {},
     "output_type": "execute_result"
    }
   ],
   "source": [
    "data.head()"
   ]
  },
  {
   "cell_type": "code",
   "execution_count": 10,
   "metadata": {
    "colab": {
     "base_uri": "https://localhost:8080/"
    },
    "id": "UWCw8uzMXkCE",
    "outputId": "02a95783-5eed-46e1-acda-690d0e79c650"
   },
   "outputs": [
    {
     "data": {
      "text/plain": [
       "When i got this movie free from my job, along with three other similar movies.. I watched then with very low expectations. Now this movie isn't bad per se. You get what you pay for. It is a tale of love, betrayal, lies, sex, scandal, everything you want in a movie. Definitely not a Hollywood blockbuster, but for cheap thrills it is not that bad. I would probably never watch this movie again. In a nutshell this is the kind of movie that you would see either very late at night on a local television station that is just wanting to take up some time, or you would see it on a Sunday afternoon on a local television station that is trying to take up some time. Despite the bad acting, cliché lines, and sub par camera work. I didn't have the desire to turn off the movie and pretend like it never popped into my DVD player. The story has been done many times in many movies. This one is no different, no better, no worse. <br /><br />Just your average movie.                                                                                                                                                                                                                                                                                                                                                                                                                                                                                                                                                                                                                                                                                                                                                                                           3\n",
       "You do realize that you've been watching the EXACT SAME SHOW for eight years, right? I could understand the initial curiosity of seeing strangers co-exist on an Island, but you'd think that after watching unkempt, stink-ladened heroes run roughshod through the bush with an egg on a spoon for half a decade would be enough to get you to commit to something a little more original (and interesting).<br /><br />And I'm not even speaking of the shows validity which for the record I find questionable. It's just hard to suspend disbelief for \\Bushy Bill\\\" eating a rat when the entire crew of producers and camera people are housed in an air conditioned make-shift bio-dome sipping frosty mochcinno's with moxy.<br /><br />What's the appeal here? I don't care about these people or their meandering lives. I just don't get it. But if you DO find yourself being captivated by hairy, unwashed people, I suggest you turn off your TV and just take a trip to your local bus station where you can see people like this in their TRUE habitat. They call them HOMELESS PEOPLE, and free of charge, you can sit back and marvel in their uncanny ability to retrieve various cigarette debris from a plethora of garbage canisters, eventually striking \\\"pay-dirt\\\" and fashioning a homemade Dr. Frankenstein-styled cancer-stick, all the while begging people for change for food when the stink of \\\"Aqua Velva\\\" on their breath is enough to suggest otherwise. And the best part? Much like Survivor, every week one member of the tribe \\\"Leaves\\\" the \\\"Island\\\" when they are unceremoniously sent packing to the local Institution when the frightening unmedicated state of full-blown schizophrenia kicks into gear! Now THAT'S ENTERTAINMENT!\"    3\n",
       "This show comes up with interesting locations as fast as the travel channel. It is billed as reality but in actuality it is pure prime time soap opera. It's tries to use exotic locales as a facade to bring people into a phony contest & then proceeds to hook viewers on the contestants soap opera style.<br /><br />It also borrows from an early CBS game show pioneer- Beat The Clock- by inventing situations for its contestants to try & overcome. Then it rewards the winner money. If they can spice it up with a little interaction between the characters, even better. While the game format is in slow motion versus Beat The Clock- the real accomplishment of this series is to escape reality. <br /><br />This show has elements of several types of successful past programs. Reality television, hardly, but if your hooked on the contestants, locale or contest, this is your cup of tea. If your not, this entire series is as I say, drivel dripping with gravy. It is another show hiding behind the reality label which is the trend it started in 2000.<br /><br />It is slick & well produced, so it might last a while yet. After all, so do re-runs of Gilligan's Island, Green Acres, The Beverly Hillbillies & The Brady Bunch. This just doesn't employ professional actors. The intelligence level is about the same.                                                                                                                                                                                                                                                                                                                                                                                                                                3\n",
       "How has this piece of crap stayed on TV this long? It's terrible. It makes me want to shoot someone. It's so fake that it is actually worse than a 1940s sci-fi movie. I'd rather have a stroke than watch this nonsense. I remember watching it when it first came out. I thought, hey this could be interesting, then I found out how absolutely, insanely, ridiculously stupid it really was. It was so bad that I actually took out my pocket knife and stuck my hand to the table.<br /><br />Please people, stop watching this and all other reality shows, they're the trash that is jamming the networks and canceling quality programming that requires some thought to create.                                                                                                                                                                                                                                                                                                                                                                                                                                                                                                                                                                                                                                                                                                                                                                                                                                                                                                                                                                                                                                                                                                  3\n",
       "Yes, he is! ...No, not because of Pintilie likes to undress his actors and show publicly their privies. Pintilie IS THE naked \\emperor\\\" - so to speak...<br /><br />It's big time for someone to state the truth. This impostor is a voyeur, a brat locked in an old man's body. His abundance of nude scenes have no artistic legitimacy whatsoever. It is 100% visual perversion: he gets his kicks by making the actors strip in the buff and look at their willies. And if he does this in front of the audience, he might eve get a hard-on! Did you know that, on the set of \\\"Niki Ardelean\\\", he used to embarrass poor Coca Bloss, by telling her: \\\"Oh, Coca, how I wanna f*** you!\\\"? She is a great lady, very decent and sensitive, and she became unspeakably ashamed - to his petty satisfaction! And, as a worrying alarm signal about the degree of vulgarity and lack of education in Romanian audiences, so many people are still so foolish to declare these visual obscenities \\\"works of art\\\"! Will anyone have ever the decency to expose the truth of it all?\"                                                                                                                                                                                                                                                                                                                                                                                                                                                                                                                                                                                                                                                                                                  2\n",
       "                                                                                                                                                                                                                                                                                                                                                                                                                                                                                                                                                                                                                                                                                                                                                                                                                                                                                                                                                                                                                                                                                                                                                                                                                                                                                                                                                                                                                                                                                                                                                                                                                                                                                                                                                                                         ..\n",
       "I got this film about a month ago and I am now a fanatic fan of Drew Barrymore's. I love a happy ending and this film gives a brilliant one with the truths of Red Sox slotted in! It's about a maths teacher who takes some promising kids on a maths trip to a company where the successful Lindsey(Drew) shows them some information. This then leads in the Ben(teacher) and Lindsey dating. But it isn't all simple when he confesses he is a massive Red Sox fan. <br /><br />First of all things are fine but then his baseball gets in the way of Lindseys life. It's all fine in the end and It took one shot to get Drew running across the field!! I got it for two quid in Blockbusters so I was happy. If you like films like this I suggest you see some more of Drew's work like Charlie's Angels and 50 first dates or even her new film with Hugh Grant in called Music and Lyrics.                                                                                                                                                                                                                                                                                                                                                                                                                                                                                                                                                                                                                                                                                                                                                                                                                                                                                      1\n",
       "Guys and Dolls is a unique play based on the characters. Sky Masterson<br /><br />(Marlon Brando) is a high-class gambler who takes up a bet with Nathan Detroit (Frank Sinatra) for one-thousand dollars. Nathan needs the money so he can<br /><br />run his usual crap game and make a fortune. The bet was that Sky wouldn't be able to take just any girl to Havana, Cuba and the \\doll\\\" he chose was Sarah<br /><br />Brown (Jean Simmons) who was in charge of a missionary. Sky finally bribes<br /><br />Sarah enough to go to Havana with him. They end up falling in love with each other, but later she accuses him of something he had no part in. Nathan ran a crap game in the missionary the night they were gone. Nathan's 14 year fiancé Adelaide (Vivian Blaine) disapproves of Nathan's gambling and tries to stop him from doing it. However, when the movie ends it all ends happy with a double<br /><br />wedding.<br /><br />The songs in this movie are just wonderful no matter who sings it. Marlon<br /><br />Brando has no singing voice at all and true they could have dubbed him but it didn't really matter. He did a wonderful acting job (obviously seeing as it's Brando) and played his character very well. I have seen a few movies with Jean Simmons and thought that this movie was her weakest one, she also couldn't<br /><br />sing at all. However, the singing is made up by Frank Sinatra, Vivien Blaine, and Stubby Kaye. Vivien Blaine and Stubby Kaye was also in the original<br /><br />Broadway production of Guys and Dolls. Vivien Blaine had a terrific voice and was the perfect Adelaide. If you like musical, and even if you don't, i advise you to watch this.\"                                                            1\n",
       "This- and not a certain slightly overrated Southern Soap Opera-was the greatest epic to come out of Hollywoods greatest year, 1939.I will not not restate the obvious-Cary Grant,Victor McLaglen( who WAS a Bengal Lancer), and Douglas Fairbanks Jr. give superb comic performances.However, I want to note two other, less understood elements of this masterpiece. The Magnificent final battle sequence, as the wonderful Sam Jaffe climbs laboriously up to the pinnacle of the temple to blow his bugle and warn the regiment, is simply grand. It never fails to enthrall me. Yet another underrated element in the film is Eduardo Ciannelli's performance as the Guru. This is no Fu Manchu caricature, but an well drawn, articulate, historically informed ( \\Have you ever heard of Changruputra Maurya?He defeated the armies left in India by Alexander The Great\\\")villain. Indeed, one can see parallels between this mystical, evil nationalist and a certain well known figure of the thirties( A German, not an Indian). Gunga Din, anti-Nazi tract? Not quite. But still, a tremendous, funny, moving epic.\"                                                                                                                                                                                                                                                                                                                                                                                                                                                                                                                                                                                                                                                          1\n",
       "How sad to see the beautiful and talented Tina Louise reduced to making this horrible excuse for a film. Tina still looked fit and attractive, but for some reason seems truly frightened. I can understand her fear; fearing that this 3rd rate stinker would somehow be released to the general public. Also, I'm a fan of the likable Adam West. Again, as with Tina, Adam looks good and in great shape for a man his age. His acting here is passable, but the script is so bad, that it's difficult to even listen to the dialog.<br /><br />The movie is a rip-off of the classic Brando biker flick, The Wild Ones; out-law biker gang is out-of-control in a small hick-town. The bikers here look like a motley group and I sure wouldn't want them to date my sister. The acting is stiff and wooden, and the story-plot is as old as sand. Hellriders is hell to watch!                                                                                                                                                                                                                                                                                                                                                                                                                                                                                                                                                                                                                                                                                                                                                                                                                                                                                                       1\n",
       "I saw this movie as a child and it broke my heart! No other story had such a unfinished ending... I grew up on many great anime movies and this was one of my favourites, because it was so unusual - a story about unfairness, and cruelty, and loneliness, and life, and choices that can't be undone, and the need for others. Chirin is made alone when the Wolf kills his mother, but the Wolf is alone, too, when Chirin follows him into the mountain. The Wolf doesn't kill the lamb, even though each night he says \\maybe I'll eat you tomorrow.\\\" The tape of it I have is broken and degraded from age and use. I will repair it and watch the movie again someday and cry just as hard as I did as a child. Stories like this, with this depth and feeling, and this intricacy of meaning, are very rare. It is a sad story, but I've never encountered any catharsis more beautifully made. I am glad I have seen this movie, and I'm glad I saw it as a child.\"                                                                                                                                                                                                                                                                                                                                                                                                                                                                                                                                                                                                                                                                                                                                                                                                            1\n",
       "Name: review, Length: 24904, dtype: int64"
      ]
     },
     "execution_count": 10,
     "metadata": {},
     "output_type": "execute_result"
    }
   ],
   "source": [
    "data['review'].value_counts()"
   ]
  },
  {
   "cell_type": "code",
   "execution_count": 11,
   "metadata": {
    "id": "VZOFz3mLXny3"
   },
   "outputs": [],
   "source": [
    "#### text preprocessing using gensim"
   ]
  },
  {
   "cell_type": "code",
   "execution_count": 12,
   "metadata": {
    "id": "5NlPiQuwX0Et"
   },
   "outputs": [],
   "source": [
    "from gensim.utils import simple_preprocess"
   ]
  },
  {
   "cell_type": "code",
   "execution_count": 38,
   "metadata": {
    "id": "wzYSB2fSX6ZD"
   },
   "outputs": [],
   "source": [
    "# simple_preprocess(data['Text'][0])"
   ]
  },
  {
   "cell_type": "code",
   "execution_count": 13,
   "metadata": {
    "id": "uGpVBZYGYBzN"
   },
   "outputs": [],
   "source": [
    "preprocess_data = data['review'].apply(lambda x: simple_preprocess(x))"
   ]
  },
  {
   "cell_type": "code",
   "execution_count": 21,
   "metadata": {
    "colab": {
     "base_uri": "https://localhost:8080/"
    },
    "id": "Ld18s0JTYM6i",
    "outputId": "18fc9a34-0da5-437e-a472-f47fd87e4255"
   },
   "outputs": [
    {
     "data": {
      "text/plain": [
       "0        [with, all, this, stuff, going, down, at, the,...\n",
       "1        [the, classic, war, of, the, worlds, by, timot...\n",
       "2        [the, film, starts, with, manager, nicholas, b...\n",
       "3        [it, must, be, assumed, that, those, who, prai...\n",
       "4        [superbly, trashy, and, wondrously, unpretenti...\n",
       "                               ...                        \n",
       "24995    [it, seems, like, more, consideration, has, go...\n",
       "24996    [don, believe, they, made, this, film, complet...\n",
       "24997    [guy, is, loser, can, get, girls, needs, to, b...\n",
       "24998    [this, minute, documentary, buñuel, made, in, ...\n",
       "24999    [saw, this, movie, as, child, and, it, broke, ...\n",
       "Name: review, Length: 25000, dtype: object"
      ]
     },
     "execution_count": 21,
     "metadata": {},
     "output_type": "execute_result"
    }
   ],
   "source": [
    "preprocess_data"
   ]
  },
  {
   "cell_type": "code",
   "execution_count": 15,
   "metadata": {
    "id": "Zd6fA_IqYzUa"
   },
   "outputs": [],
   "source": [
    "from gensim.models import Word2Vec"
   ]
  },
  {
   "cell_type": "code",
   "execution_count": 16,
   "metadata": {
    "id": "Yt6lBU3fY9QY"
   },
   "outputs": [],
   "source": [
    "cbow_w2v_model = Word2Vec(preprocess_data, vector_size = 300, window = 9, min_count = 2, sg = 0)"
   ]
  },
  {
   "cell_type": "code",
   "execution_count": 18,
   "metadata": {
    "colab": {
     "base_uri": "https://localhost:8080/"
    },
    "id": "AHLbmwEeZlHS",
    "outputId": "e042e063-b329-43b7-a66f-518fc52d3df3"
   },
   "outputs": [
    {
     "name": "stdout",
     "output_type": "stream",
     "text": [
      "cbow vocab size  46277\n"
     ]
    }
   ],
   "source": [
    "print(\"cbow vocab size \", len(cbow_w2v_model.wv.index_to_key))"
   ]
  },
  {
   "cell_type": "code",
   "execution_count": 19,
   "metadata": {
    "id": "seND4EKPaCsm"
   },
   "outputs": [],
   "source": [
    "# cbow_w2v_model.wv.index_to_key"
   ]
  },
  {
   "cell_type": "code",
   "execution_count": 20,
   "metadata": {
    "colab": {
     "base_uri": "https://localhost:8080/"
    },
    "id": "vR6ZA8aEaIH0",
    "outputId": "fbc39e1b-229a-4788-e4be-f25c789d4743"
   },
   "outputs": [
    {
     "data": {
      "text/plain": [
       "[('the', 0),\n",
       " ('and', 1),\n",
       " ('of', 2),\n",
       " ('to', 3),\n",
       " ('is', 4),\n",
       " ('br', 5),\n",
       " ('it', 6),\n",
       " ('in', 7),\n",
       " ('this', 8),\n",
       " ('that', 9)]"
      ]
     },
     "execution_count": 20,
     "metadata": {},
     "output_type": "execute_result"
    }
   ],
   "source": [
    "list(cbow_w2v_model.wv.key_to_index.items())[:10]"
   ]
  },
  {
   "cell_type": "code",
   "execution_count": 22,
   "metadata": {
    "colab": {
     "base_uri": "https://localhost:8080/"
    },
    "id": "fqA4v3ULaVAu",
    "outputId": "c843232b-b32f-4f65-f1e9-68e41a8b4e35"
   },
   "outputs": [
    {
     "data": {
      "text/plain": [
       "(300,)"
      ]
     },
     "execution_count": 22,
     "metadata": {},
     "output_type": "execute_result"
    }
   ],
   "source": [
    "cbow_w2v_model.wv.get_vector(\"warning\").shape"
   ]
  },
  {
   "cell_type": "code",
   "execution_count": 25,
   "metadata": {
    "colab": {
     "base_uri": "https://localhost:8080/"
    },
    "id": "W5sEw0e2az3a",
    "outputId": "cc79b3a2-b03d-4c9b-d395-cc068117e56a"
   },
   "outputs": [
    {
     "data": {
      "text/plain": [
       "array([-0.01810417, -0.00676741, -0.0921161 ,  0.00705599,  0.00522879,\n",
       "       -0.09874462, -0.12283088,  0.12554929, -0.0264633 ,  0.11698117,\n",
       "       -0.03827117, -0.06648329, -0.00234569,  0.05994861, -0.00442212,\n",
       "       -0.04198052, -0.04356885, -0.01548346,  0.07064465, -0.10135479,\n",
       "       -0.00098794, -0.01784189, -0.0635765 , -0.16094497,  0.01921563,\n",
       "       -0.09301157, -0.09834157,  0.03523847,  0.03685121, -0.10431366,\n",
       "       -0.06213676, -0.09702221, -0.07011692,  0.03384071, -0.01683694,\n",
       "       -0.00293426, -0.06936525, -0.04674792,  0.02848776,  0.0154759 ,\n",
       "        0.11096585, -0.02512334,  0.02041993,  0.01352324,  0.00057037,\n",
       "        0.07942069, -0.05921475,  0.06168391, -0.01200385, -0.0219768 ,\n",
       "       -0.03209635,  0.13572925,  0.0773291 ,  0.12667863,  0.07415902,\n",
       "        0.00990736,  0.01861586,  0.04949621,  0.0240091 ,  0.0385318 ,\n",
       "        0.01778715,  0.05966471,  0.00276537, -0.03312901, -0.03943299,\n",
       "        0.09306601,  0.03574291, -0.01260295,  0.04216002,  0.01752801,\n",
       "       -0.04242231,  0.02056213, -0.00215951,  0.02573727,  0.03951995,\n",
       "        0.03506905, -0.06168875,  0.00668187,  0.07136519,  0.01818113,\n",
       "        0.05583064,  0.02404619, -0.04779235,  0.0633356 ,  0.04928454,\n",
       "        0.08803443, -0.02595351, -0.06252818,  0.11900612,  0.02518543,\n",
       "       -0.08108333,  0.01129977, -0.00856963,  0.00041334, -0.04558035,\n",
       "       -0.01912662, -0.0639683 ,  0.05673862,  0.02060048,  0.05986358,\n",
       "        0.11559771, -0.09612603, -0.04686929,  0.0117794 ,  0.02844152,\n",
       "        0.03552381, -0.02823782,  0.02195676, -0.03153061,  0.03238151,\n",
       "       -0.02627537,  0.00088199, -0.02753897, -0.01856653,  0.0209784 ,\n",
       "       -0.03160109, -0.06540871,  0.05507286, -0.02106249, -0.12189839,\n",
       "       -0.01560973,  0.01600999, -0.04547464,  0.11062671, -0.0338752 ,\n",
       "       -0.02895643,  0.08877587, -0.09160654,  0.11900183, -0.08707394,\n",
       "       -0.04091734,  0.00972384, -0.05334979,  0.04043744,  0.02224093,\n",
       "       -0.02533815,  0.00089854,  0.01223786, -0.1346706 , -0.10366848,\n",
       "       -0.03993364,  0.02435231, -0.03271095, -0.00244401, -0.04801368,\n",
       "        0.03491019, -0.055216  , -0.00939989,  0.00684032,  0.0605784 ,\n",
       "        0.01225749, -0.1222567 , -0.13154677,  0.06785654,  0.03436407,\n",
       "        0.07495458,  0.00522941, -0.0377638 , -0.01253589, -0.02354302,\n",
       "       -0.03079887, -0.00942462, -0.03846833,  0.04242777,  0.0502464 ,\n",
       "       -0.0940852 ,  0.00128148,  0.04548365,  0.00169824, -0.04080856,\n",
       "        0.1238701 , -0.00145663, -0.05604229, -0.05673463, -0.11755753,\n",
       "       -0.08422656,  0.11746472, -0.02632007,  0.03398777,  0.03910431,\n",
       "        0.07606576,  0.0482646 , -0.03259286, -0.00255682, -0.11168054,\n",
       "        0.09703049, -0.03751358, -0.03400158, -0.0258841 , -0.00752217,\n",
       "        0.09824064, -0.00151144,  0.02578255,  0.13939872,  0.0438812 ,\n",
       "        0.0872348 , -0.06147598, -0.04137602, -0.0644222 , -0.13787368,\n",
       "        0.08867882,  0.04263534,  0.0223414 , -0.06157837, -0.01500637,\n",
       "       -0.07268652,  0.02029141,  0.10464542,  0.07604939, -0.00721758,\n",
       "       -0.02026122, -0.04023287, -0.03916529,  0.02174273, -0.01381009,\n",
       "        0.02044543, -0.01922798, -0.01364871,  0.03292631, -0.01620112,\n",
       "       -0.0252392 , -0.06951214, -0.09328283, -0.00355037, -0.01574651,\n",
       "       -0.01336504, -0.0550324 , -0.02892074, -0.02396508, -0.0233885 ,\n",
       "       -0.03361789,  0.05092926,  0.04674495,  0.02733979,  0.03107315,\n",
       "        0.05673553,  0.0034173 , -0.00895827,  0.0320113 ,  0.07023129,\n",
       "        0.01739477, -0.10811255,  0.0189299 , -0.01888197,  0.07480086,\n",
       "        0.0152891 , -0.04047509, -0.00493569,  0.01151092,  0.05230907,\n",
       "       -0.01240661, -0.01031265, -0.04619298,  0.02157228,  0.07159134,\n",
       "        0.02224399, -0.00730683, -0.01838821,  0.0825157 ,  0.09661949,\n",
       "       -0.03619606, -0.05885044, -0.09168052,  0.02147879,  0.08474194,\n",
       "       -0.0912954 ,  0.03333328, -0.02144324,  0.09411871, -0.000323  ,\n",
       "       -0.04362404,  0.00321076, -0.0616322 ,  0.06942508,  0.05452921,\n",
       "       -0.00223219, -0.02065546, -0.01342611, -0.01469785, -0.01455477,\n",
       "        0.03727639,  0.09286603,  0.02854843,  0.08888683,  0.04220523,\n",
       "        0.07652684,  0.08698524, -0.00949968, -0.01348337, -0.05370787,\n",
       "        0.00930969, -0.02921386,  0.01679469,  0.08034417,  0.07765474,\n",
       "        0.08019724, -0.0299689 ,  0.05462315, -0.10017884, -0.0468423 ],\n",
       "      dtype=float32)"
      ]
     },
     "execution_count": 25,
     "metadata": {},
     "output_type": "execute_result"
    }
   ],
   "source": [
    "cbow_w2v_model.wv.get_vector(\"warning\", norm = True)"
   ]
  },
  {
   "cell_type": "code",
   "execution_count": 26,
   "metadata": {
    "id": "qSdlMSMla_xZ"
   },
   "outputs": [],
   "source": [
    "words_oil_cb = cbow_w2v_model.wv.most_similar(\"consideration\")"
   ]
  },
  {
   "cell_type": "code",
   "execution_count": 27,
   "metadata": {
    "colab": {
     "base_uri": "https://localhost:8080/"
    },
    "id": "eiHHTXiybQvR",
    "outputId": "26d5d3f9-6fac-4436-bcc9-83dfdda26ced"
   },
   "outputs": [
    {
     "data": {
      "text/plain": [
       "[('obscurity', 0.6072103381156921),\n",
       " ('insight', 0.6039255261421204),\n",
       " ('profit', 0.6030507683753967),\n",
       " ('phantasms', 0.6016106009483337),\n",
       " ('descent', 0.59575355052948),\n",
       " ('cinématographe', 0.5872016549110413),\n",
       " ('unfulfilling', 0.5839917063713074),\n",
       " ('crusades', 0.5726905465126038),\n",
       " ('usc', 0.5726162791252136),\n",
       " ('converted', 0.5700556039810181)]"
      ]
     },
     "execution_count": 27,
     "metadata": {},
     "output_type": "execute_result"
    }
   ],
   "source": [
    "words_oil_cb"
   ]
  },
  {
   "cell_type": "code",
   "execution_count": 28,
   "metadata": {
    "id": "RDO_MJZ4b3nK"
   },
   "outputs": [],
   "source": [
    "from gensim.models import KeyedVectors"
   ]
  },
  {
   "cell_type": "code",
   "execution_count": 29,
   "metadata": {
    "id": "50q5fxNSeKVY"
   },
   "outputs": [],
   "source": [
    "from sklearn.preprocessing import LabelEncoder"
   ]
  },
  {
   "cell_type": "code",
   "execution_count": 30,
   "metadata": {
    "id": "wxarU4XRey-N"
   },
   "outputs": [],
   "source": [
    "from sklearn.model_selection import train_test_split"
   ]
  },
  {
   "cell_type": "code",
   "execution_count": 31,
   "metadata": {
    "id": "be3-NIZTfU8_"
   },
   "outputs": [],
   "source": [
    "import numpy as np"
   ]
  },
  {
   "cell_type": "markdown",
   "metadata": {
    "id": "yENS2dMyfXLJ"
   },
   "source": [
    "function"
   ]
  },
  {
   "cell_type": "code",
   "execution_count": 32,
   "metadata": {
    "id": "-Tdgmc0VfWWy"
   },
   "outputs": [],
   "source": [
    "def get_embedding_w2v(doc_tokens, pre_trained):\n",
    "    embeddings = []\n",
    "    # if pre_trained = 1; use Google's model else use our own model\n",
    "    if pre_trained:\n",
    "        model = google_w2vec\n",
    "        for tok in doc_tokens:\n",
    "            if tok in model:\n",
    "                embeddings.append(model[tok])\n",
    "\n",
    "    else:\n",
    "        model = cbow_w2v_model\n",
    "        for tok in doc_tokens:\n",
    "            if tok in model.wv.index_to_key:\n",
    "                embeddings.append(model.wv.get_vector(tok))\n",
    "    # iterate over tokens to extract their vectors\n",
    "\n",
    "    # mean the vectors of individual words to get the vector of the statement\n",
    "    return np.mean(embeddings, axis=0)"
   ]
  },
  {
   "cell_type": "code",
   "execution_count": null,
   "metadata": {
    "id": "mhPRSop0e4Mn"
   },
   "outputs": [],
   "source": [
    "X_w2v_model = preprocess_data.apply(lambda x: get_embedding_w2v(x, pre_trained = 0))"
   ]
  },
  {
   "cell_type": "code",
   "execution_count": 74,
   "metadata": {
    "colab": {
     "base_uri": "https://localhost:8080/"
    },
    "id": "_6zt6ZQ6fxsw",
    "outputId": "8bab48cf-2749-4f28-ff02-a3933197ebfe"
   },
   "outputs": [
    {
     "data": {
      "text/plain": [
       "0       [0.054279193, 0.32864526, -0.046113756, 0.0007...\n",
       "1       [0.09470699, 0.28530318, 0.00078800746, 0.0208...\n",
       "2       [0.041216686, 0.25698522, 0.0002470787, 0.0668...\n",
       "3       [0.014873617, 0.3072576, 0.021931956, 0.042451...\n",
       "4       [0.054907225, 0.27781928, 0.0016782065, 0.0368...\n",
       "                              ...                        \n",
       "1485    [0.017478863, 0.31541178, -0.085259914, 0.0369...\n",
       "1486    [0.011967789, 0.26937765, 0.007003103, 0.05182...\n",
       "1487    [0.11956796, 0.31136435, 0.034300935, 0.005000...\n",
       "1488    [0.059890848, 0.25500384, 0.05294392, 0.045232...\n",
       "1489    [0.012725108, 0.29030642, 0.02054432, 0.030892...\n",
       "Name: Text, Length: 1490, dtype: object"
      ]
     },
     "execution_count": 74,
     "metadata": {},
     "output_type": "execute_result"
    }
   ],
   "source": [
    "X_w2v_model"
   ]
  },
  {
   "cell_type": "code",
   "execution_count": 75,
   "metadata": {
    "id": "Av6edjn9gDAT"
   },
   "outputs": [],
   "source": [
    "X_w2v_model = pd.DataFrame(X_w2v_model.tolist())"
   ]
  },
  {
   "cell_type": "code",
   "execution_count": 77,
   "metadata": {
    "id": "QmKPy3wmggbe"
   },
   "outputs": [],
   "source": [
    "y = data['review']"
   ]
  },
  {
   "cell_type": "code",
   "execution_count": 78,
   "metadata": {
    "id": "wVsK3sMHgj6O"
   },
   "outputs": [],
   "source": [
    "x_train, x_test, y_train, y_test = train_test_split(X_w2v_model , y, test_size = 0.2, random_state=42)"
   ]
  },
  {
   "cell_type": "code",
   "execution_count": 79,
   "metadata": {
    "id": "zEx99-1zgyZ_"
   },
   "outputs": [],
   "source": [
    "from sklearn.naive_bayes import GaussianNB"
   ]
  },
  {
   "cell_type": "code",
   "execution_count": 80,
   "metadata": {
    "id": "KdbqgBgqg6Et"
   },
   "outputs": [],
   "source": [
    "from sklearn.metrics import accuracy_score"
   ]
  },
  {
   "cell_type": "code",
   "execution_count": 81,
   "metadata": {
    "colab": {
     "base_uri": "https://localhost:8080/"
    },
    "id": "XCIBMTEfg9jb",
    "outputId": "06a3b000-ad9d-4d1c-c29a-9cbf774e0008"
   },
   "outputs": [
    {
     "data": {
      "text/plain": [
       "0.8422818791946308"
      ]
     },
     "execution_count": 81,
     "metadata": {},
     "output_type": "execute_result"
    }
   ],
   "source": [
    "model1 = GaussianNB()\n",
    "model1.fit(x_train, y_train)\n",
    "y_pred = model1.predict(x_test)\n",
    "accuracy_score(y_test, y_pred)"
   ]
  },
  {
   "cell_type": "code",
   "execution_count": 82,
   "metadata": {
    "id": "1A1tKqsbhK4J"
   },
   "outputs": [],
   "source": [
    "X_w2v_pt_model = preprocess_data.apply(lambda x: get_embedding_w2v(x, pre_trained = 1))"
   ]
  },
  {
   "cell_type": "code",
   "execution_count": 83,
   "metadata": {
    "id": "sAna98IbhVsf"
   },
   "outputs": [],
   "source": [
    "X_w2v_pt_model = pd.DataFrame(X_w2v_pt_model.tolist())"
   ]
  },
  {
   "cell_type": "code",
   "execution_count": 84,
   "metadata": {
    "id": "c0TWiDkohbsc"
   },
   "outputs": [],
   "source": [
    "x_train, x_test, y_train, y_test = train_test_split(X_w2v_pt_model , y, test_size = 0.2, random_state=42)"
   ]
  },
  {
   "cell_type": "code",
   "execution_count": 85,
   "metadata": {
    "colab": {
     "base_uri": "https://localhost:8080/"
    },
    "id": "g168X6udhfn3",
    "outputId": "41d22d96-3750-49ae-8925-bdbf3a756f11"
   },
   "outputs": [
    {
     "data": {
      "text/plain": [
       "0.9328859060402684"
      ]
     },
     "execution_count": 85,
     "metadata": {},
     "output_type": "execute_result"
    }
   ],
   "source": [
    "model2 = GaussianNB()\n",
    "model2.fit(x_train, y_train)\n",
    "y_pred = model2.predict(x_test)\n",
    "accuracy_score(y_test, y_pred)"
   ]
  },
  {
   "cell_type": "code",
   "execution_count": null,
   "metadata": {
    "id": "pzjxukC7hkdg"
   },
   "outputs": [],
   "source": []
  }
 ],
 "metadata": {
  "colab": {
   "provenance": []
  },
  "kernelspec": {
   "display_name": "Python 3 (ipykernel)",
   "language": "python",
   "name": "python3"
  },
  "language_info": {
   "codemirror_mode": {
    "name": "ipython",
    "version": 3
   },
   "file_extension": ".py",
   "mimetype": "text/x-python",
   "name": "python",
   "nbconvert_exporter": "python",
   "pygments_lexer": "ipython3",
   "version": "3.10.9"
  }
 },
 "nbformat": 4,
 "nbformat_minor": 1
}
